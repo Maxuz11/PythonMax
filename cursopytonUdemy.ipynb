{
  "nbformat": 4,
  "nbformat_minor": 0,
  "metadata": {
    "colab": {
      "name": "cursopytonUdemy.ipynb",
      "provenance": [],
      "collapsed_sections": [],
      "mount_file_id": "1ThHhHjofL4gJqZSuWCidsZMLyYJHixQP",
      "authorship_tag": "ABX9TyNnm3Y9u4oaVs6rtMGwSew7",
      "include_colab_link": true
    },
    "kernelspec": {
      "name": "python3",
      "display_name": "Python 3"
    },
    "language_info": {
      "name": "python"
    }
  },
  "cells": [
    {
      "cell_type": "markdown",
      "metadata": {
        "id": "view-in-github",
        "colab_type": "text"
      },
      "source": [
        "<a href=\"https://colab.research.google.com/github/Maxuz11/PythonMax/blob/main/cursopytonUdemy.ipynb\" target=\"_parent\"><img src=\"https://colab.research.google.com/assets/colab-badge.svg\" alt=\"Open In Colab\"/></a>"
      ]
    },
    {
      "cell_type": "code",
      "metadata": {
        "id": "Z3WpVfDidKbV"
      },
      "source": [
        "x = 5\n",
        "y = 'Haloo'\n",
        "print(x,y)\n",
        "\n",
        "correo = 'm.j@gmail.com'\n",
        "print(correo)\n",
        "\n",
        "a,b,c = 1,'cola','luna'\n",
        "print(a,b,c)\n",
        "\n",
        "print(y + b)\n",
        "print(y +' ' + b)\n"
      ],
      "execution_count": null,
      "outputs": []
    },
    {
      "cell_type": "markdown",
      "metadata": {
        "id": "rIo2AwDbg8fr"
      },
      "source": [
        "#datos que nos encontramos en python\n"
      ]
    },
    {
      "cell_type": "code",
      "metadata": {
        "id": "HejOVWSHhAym"
      },
      "source": [
        "#String se definen con \" \" en una oracion y  '' en un palabras\n",
        "palabra = 'hola cola'\n",
        "oracion = \"tres tristes tigres trigo tragaban en un trigal\"\n",
        "entero = 20 #int\n",
        "conDecimal = 20.2 # float\n",
        "complejo = 1j\n",
        "\n",
        "print(oracion +'',entero)\n"
      ],
      "execution_count": null,
      "outputs": []
    },
    {
      "cell_type": "markdown",
      "metadata": {
        "id": "UETRzvINigw8"
      },
      "source": [
        "##Listas="
      ]
    },
    {
      "cell_type": "code",
      "metadata": {
        "id": "kE0JvQDRii87"
      },
      "source": [
        "lista = ['mario','andres','jose'] #se usan estos [] para especificar una lista\n",
        "print(lista)\n",
        "\n",
        "lista.append('juan') #con esto podemos agregar elementos a la lista\n",
        "print(lista)\n",
        "\n",
        "lista2 = lista.copy() #este metodo copia la lista \n",
        "lista2.append(3)\n",
        "print(lista2) \n",
        "\n",
        "print(lista.count('jose')) #aqui con el metodo count contamos en la lista el objeto o valor que le pedimos\n",
        "#print(len(lista2))#muestra la longitud \n",
        "largolist2 = len(lista2)\n",
        "print(largolist2)\n",
        "print(lista2) \n",
        "\n",
        "#acceder al indice de la lista\n",
        "print(lista2[0],lista2[4])\n",
        "\n",
        "#eliminar elementos de una lista \n",
        "#lista.pop(2)\n",
        "#print(lista)\n",
        "#eliminar elemento por su nobre en una lista \n",
        "#lista.remove('mario')\n",
        "#print(lista)\n",
        "\n",
        "#Invertir la lista \n",
        "lista.reverse()\n",
        "print(lista)\n",
        "#Ordenar la lista no se puede ordenar la lista si no contienen el mismo tipo de valor\n",
        "lista.sort()\n",
        "\n",
        "#lista.clear() #este metodo vacia la lista \n",
        "#print(lista)"
      ],
      "execution_count": null,
      "outputs": []
    },
    {
      "cell_type": "markdown",
      "metadata": {
        "id": "RCVuGDPCoVwI"
      },
      "source": [
        "##Tuplas"
      ]
    },
    {
      "cell_type": "code",
      "metadata": {
        "id": "wkIjOgzooXac"
      },
      "source": [
        "tupla =('hola','mundo','somos','tupla')\n",
        "print(tupla.index('hola')) #aqui le pediremos que nos muestre la posicion en cual se encuentra\n",
        "print(tupla[1]) #aqui le pedimos que muestra que contiene esa posicion\n",
        "listaTupla = list(tupla) #creamos una lista de tupla para poder agregar elementos a nuestra tupla\n",
        "listaTupla.append('Max')\n",
        "print(listaTupla)\n",
        "print(listaTupla[4])#aqui como yo se que la palabra q agregue se encuentra en la 4ta posiscion le pido \n",
        "#que me muestre que es lo q hay alli.\n"
      ],
      "execution_count": null,
      "outputs": []
    },
    {
      "cell_type": "markdown",
      "source": [
        "##Rangos\n"
      ],
      "metadata": {
        "id": "7OSMss8LI3gn"
      }
    },
    {
      "cell_type": "code",
      "source": [
        "rango = range(6)\n",
        "print(rango)#aqui mostraremos desde hasta del rango"
      ],
      "metadata": {
        "id": "1UxncJc-I6PF"
      },
      "execution_count": null,
      "outputs": []
    },
    {
      "cell_type": "markdown",
      "source": [
        "##Diccionarios\n"
      ],
      "metadata": {
        "id": "zzxAbmsNLnSv"
      }
    },
    {
      "cell_type": "code",
      "source": [
        "mascotas={#aqui le agregaremos lo que contendria el diccionario\n",
        "    \"nombre\": \"Cola\",\n",
        "    \"raza\" : \"Ragamufi\",\n",
        "    \"edad\" : 11\n",
        "}\n",
        "print(mascotas)\n",
        "print(mascotas['raza'])#acceder a un valor de la propiedad dfel diccionario dandole el valor\n",
        "print(mascotas.get('raza'))#acceder a un valor de la propiedad dfel diccionario dandole el valor\n",
        "mascotas['nombre']= 'Chimuelo' #cambiar los valores del diccionario\n",
        "print(mascotas.get('nombre'))\n",
        "print(mascotas)\n",
        "print(len(mascotas))#imprimir longitud o cantidad de elementos en nuestro diccionario\n",
        "mascotas['Dueño']= 'si'#agregar un concepeto mas elemento en nuestro diccionario\n",
        "print(mascotas)\n",
        "CopiaMascotas = mascotas.copy() #aqui haremos una copia para poder comparar\n",
        "print(CopiaMascotas)\n",
        "#mascotas.pop('Dueño') #para eliminar un concepto mas su elemento\n",
        "#mascotas.popitem() #con popItem se eliminara el ultimo valor del diccionario\n",
        "del mascotas['Dueño'] #con del tambien se puede hacer lo mismo q las 2 instancias anteriores\n",
        "print(mascotas, '-' , CopiaMascotas)\n",
        "mascotas.clear() #para eliminar todo lo que contiene el diccionario\n",
        "print(mascotas, '-' , CopiaMascotas)#aqui vemos q se elimino los elementos del diccionario mascotas"
      ],
      "metadata": {
        "id": "G4iTf0ARJYUo"
      },
      "execution_count": null,
      "outputs": []
    },
    {
      "cell_type": "markdown",
      "source": [
        "###Diccionarios Anidados"
      ],
      "metadata": {
        "id": "GxifkpKMWWk3"
      }
    },
    {
      "cell_type": "code",
      "source": [
        "mascotas={\n",
        "    \"gatos\":{\n",
        "        \"nombre\": \"Cola\",\n",
        "        \"edad\": 11\n",
        "    },\n",
        "    \"Perros\":{\n",
        "        \"nombre\": \"Luna\",\n",
        "        \"edad\": 6\n",
        "    }\n",
        "}#aqui anidaremos diccionarios \n",
        "print(mascotas)\n",
        "gato = { #creacion de variables y llamado de estas en el diccionario anidado\n",
        "        \"nombre\": \"Cola\",\n",
        "        \"edad\": 11 \n",
        "}\n",
        "perro ={\n",
        "        \"nombre\": \"Luna\",\n",
        "        \"edad\": 6    \n",
        "}\n",
        "mascotas2 ={\n",
        "    \"gatos\": gato,\n",
        "    \"Perros\":perro\n",
        "}\n",
        "print(mascotas2)\n",
        "#Constructor dict, constructor diccionario\n",
        "\n",
        "Perritos = dict(nombre=\"Pushi\",edad=4)\n",
        "print(Perritos)"
      ],
      "metadata": {
        "id": "d2GmyIzEWZyi"
      },
      "execution_count": null,
      "outputs": []
    },
    {
      "cell_type": "markdown",
      "source": [
        "dato booleano"
      ],
      "metadata": {
        "id": "MM08eGRktnWi"
      }
    },
    {
      "cell_type": "code",
      "source": [
        "#True or False\n"
      ],
      "metadata": {
        "id": "E2Fi4ex4t0TU"
      },
      "execution_count": null,
      "outputs": []
    },
    {
      "cell_type": "markdown",
      "source": [
        "#Uso del If:"
      ],
      "metadata": {
        "id": "1rzULlpnuU1l"
      }
    },
    {
      "cell_type": "code",
      "source": [
        "t =4 #aqui definimos a t con el valor q queremos que tome\n",
        "if 2 <= t <5: #aqui condicionamos la sentenciay indicamos que hara la consola al realizar la comparacion\n",
        "  print(True)\n",
        "else:\n",
        "  print(False)  \n",
        "\n",
        " #uso de if, elif and else=\n",
        "pushi = dict(edad=2)\n",
        "if 3 >= pushi.get('edad') > 1: #pushi.get('edad') con esto llamamos al valor que contiene la variable pushi en su atibuto edad\n",
        "  print(\"adolescente\")\n",
        "elif pushi.get('edad') <= 1:\n",
        "  print(\"cachorro\")   \n",
        "else:\n",
        "  print(\"adulto\")  \n",
        " \n"
      ],
      "metadata": {
        "id": "suvskjHxuWw9"
      },
      "execution_count": null,
      "outputs": []
    },
    {
      "cell_type": "code",
      "source": [
        "  #use and y/o or condicionar mas de un elemento si ambas se cumplen o si se cumpla una o la otra\n",
        "\n",
        "pushi2 = dict(animal =\"perro\", edad = 7 )\n",
        "if 1 < pushi2.get('edad') <= 3 and pushi2.get('animal') == \"perro\": #pushi.get('edad') con esto llamamos al valor que contiene la variable pushi en su atibuto edad\n",
        "    print(\"adolescente y es un perro\")\n",
        "elif pushi2.get('edad') <= 1 and pushi2.get('animal') == \"perro\":\n",
        "    print(\"cachorro y es un perro \")   \n",
        "elif pushi2.get('edad') > 5 and pushi2.get('animal') == \"perro\":\n",
        "    print(\"es un perro adulto\") \n",
        "elif pushi2.get('edad') > 5 or pushi2.get('animal') == \"gato\":\n",
        "    print(\"nuestro animal tiene\",pushi2.get('edad'),\" y no es un perro\")     \n",
        "else:\n",
        "    print(\"no es un perro\") "
      ],
      "metadata": {
        "id": "SY3EK8Yu0tN1"
      },
      "execution_count": null,
      "outputs": []
    },
    {
      "cell_type": "markdown",
      "source": [
        "Interaccion o recoleccin de datos del usuario"
      ],
      "metadata": {
        "id": "-uQH-NuB3A72"
      }
    },
    {
      "cell_type": "code",
      "source": [
        "Nombre_Mascota = input('Ingrese nombre de mascota: ')\n",
        "lista_nombres = ['Copito','Pelusa','Simba']\n",
        "if lista_nombres.count(Nombre_Mascota):\n",
        "  print(\"Su mascota esta en la lista: \",Nombre_Mascota)\n",
        "else:\n",
        "  print(\"su mascota no esta en la lista: \",Nombre_Mascota)  "
      ],
      "metadata": {
        "id": "Oz_1cUQZ3KDC"
      },
      "execution_count": null,
      "outputs": []
    },
    {
      "cell_type": "markdown",
      "source": [
        "#Try and except"
      ],
      "metadata": {
        "id": "Y5vCTg8KYSyC"
      }
    },
    {
      "cell_type": "code",
      "source": [
        "from IPython.lib.display import IFrame\n",
        "#haremos una calculadora la cual solo debera aceptar numeros\n",
        "#es  por ello que usaremos el try en cual se ejecuta lña linea de interaccion con el usuario\n",
        "#y el except el cual encapsula el error\n",
        "\n",
        "N1 = input('Ingresa 1er numero: ')\n",
        "try:\n",
        "  N1 = int(N1) #aqui convertimos el numero ingresado a numero entero\n",
        "except:\n",
        "    N1 = 'no es un numero' #aqui le asignamos cualquier valor debido a que es la excepcion de error \n",
        "    # que estamos encapsulando\n",
        "\n",
        "N2 = input('Ingresa 2do numero: ')    \n",
        "try:\n",
        "  N2 = int(N2) #aqui convertimos el numero ingresado a numero entero\n",
        "except:\n",
        "    N2 = 'no es un numero' #aqui le asignamos cualquier valor debido a que es la excepcion de error \n",
        "    # que estamos encapsulando\n",
        "\n",
        "if N1 == 'no es un numero' or N2 == 'no es un numero':\n",
        "  print(\"Error, solo debes ingresar numeros\")\n",
        "  exit()\n",
        "else:\n",
        "  Rsum = N1 + N2\n",
        "  Rrest = N1 - N2 \n",
        "  print(\"La suma de los numeros es: \",Rsum) \n",
        "  print(\"la resta de los numeros es: \",Rrest) \n",
        "  \n"
      ],
      "metadata": {
        "id": "jiL3PZXGYVvc"
      },
      "execution_count": null,
      "outputs": []
    },
    {
      "cell_type": "code",
      "source": [
        "N3 = input('Ingresa 1er numero: ')\n",
        "try:\n",
        "  N3 = int(N1) #aqui convertimos el numero ingresado a numero entero\n",
        "except:\n",
        "    N3 = 'no es un numero' #aqui le asignamos cualquier valor debido a que es la excepcion de error \n",
        "    # que estamos encapsulando\n",
        "\n",
        "N4 = input('Ingresa 2do numero: ')    \n",
        "try:\n",
        "  N4 = int(N2) #aqui convertimos el numero ingresado a numero entero\n",
        "except:\n",
        "    N4 = 'no es un numero' #aqui le asignamos cualquier valor debido a que es la excepcion de error \n",
        "    # que estamos encapsulando\n",
        "\n",
        "if N3 == 'no es un numero' or N4 == 'no es un numero':\n",
        "  print(\"Error, solo debes ingresar numeros\")\n",
        "  exit()\n",
        "\n",
        "symbol = input('ingrese operacion: ')\n",
        "\n",
        "if symbol == '+':\n",
        "  print('La suma es: ',N3+N4)\n",
        "elif symbol == '-':\n",
        "  print('La resta es: ',N3-N4)  \n",
        "elif symbol == '*':\n",
        "  print('La multiplicacion es: ',N3*N4)\n",
        "elif symbol == '/':\n",
        "  print('La suma es: ',N3/N4)  \n",
        "else:\n",
        "  print('El symbolo ingresado no es correcto')  "
      ],
      "metadata": {
        "id": "Ox077N7vdxZc"
      },
      "execution_count": null,
      "outputs": []
    },
    {
      "cell_type": "markdown",
      "source": [
        "#While Loop"
      ],
      "metadata": {
        "id": "jLlgnjA9frrh"
      }
    },
    {
      "cell_type": "code",
      "source": [
        "i = 0\n",
        "while i < 8:\n",
        "  i+= 1 #aqui le indicamos que mintras el valor de i sea menor a 8 se incremente en 1\n",
        "  if i == 2:\n",
        "    print('no imprimire la suma de 1+1')\n",
        "    continue #aqui le indicamos que se detenga en 2 pero q no imprima el numero y que imprima lo q escribimos\n",
        "    #y que luego de esto continue\n",
        "    \n",
        "  print(i)  "
      ],
      "metadata": {
        "id": "kn46cNrVfvKE"
      },
      "execution_count": null,
      "outputs": []
    },
    {
      "cell_type": "code",
      "source": [
        "i = 1\n",
        "while i <= 8:\n",
        "  i+= 1\n",
        "  if i == 2:\n",
        "    continue\n",
        "  print(i)\n",
        "print(\" \")\n",
        "\n",
        "t = 1\n",
        "while 40 > t > 0:\n",
        "  t*= 2\n",
        "  if t == 16:\n",
        "    print(\"hola\") \n",
        "    continue  \n",
        "  print(t)"
      ],
      "metadata": {
        "id": "jpsgyYEnSHDG"
      },
      "execution_count": null,
      "outputs": []
    },
    {
      "cell_type": "markdown",
      "source": [
        "## For Loop"
      ],
      "metadata": {
        "id": "7VjAOTH3WClG"
      }
    },
    {
      "cell_type": "code",
      "source": [
        "users = ['Max','Mariol','Elian','Floren']\n",
        "for a in users:\n",
        "  print(users)\n",
        "print( \"\")\n",
        "\n",
        "for users in users:\n",
        "  if users == 'Max':  #con esta linea de codigo no imprimimos el usuario o nombre de us max\n",
        "    continue\n",
        "  print(users) \n",
        "print(\"\")\n",
        "\n",
        "\n",
        "    \n",
        "  \n"
      ],
      "metadata": {
        "id": "BfUfg-WfWGpp"
      },
      "execution_count": null,
      "outputs": []
    },
    {
      "cell_type": "code",
      "source": [
        "for x in range(3,30,5): #en esta linea en el range(3 'inicia recorrido', 30'fin recorrido', 5 'la cant a sumar en cada iteracion')\n",
        "  print(x)\n",
        "  "
      ],
      "metadata": {
        "id": "76Bn2qf3Zg2O"
      },
      "execution_count": null,
      "outputs": []
    },
    {
      "cell_type": "code",
      "source": [
        "##For dentro de otro for\n",
        "\n",
        "users = ['Max','Mariol','Elian','Floren']\n",
        "ages = [27, 49, 27, 16]\n",
        "\n",
        "for users in users:\n",
        "  for x in ages: #aqui aplicamos uma variable para que nos imprima cada entero si no no se pueden iterar\n",
        "    print(users,x)\n"
      ],
      "metadata": {
        "id": "nqtpGS7oaQ30"
      },
      "execution_count": null,
      "outputs": []
    },
    {
      "cell_type": "markdown",
      "source": [
        "##Funciones"
      ],
      "metadata": {
        "id": "24vo4xosc8Ml"
      }
    },
    {
      "cell_type": "code",
      "source": [
        "def miFuncion(): #definir funcion. esta pueden recibir argumentos\n",
        "  print(\"Mi funcion\") #esto es lo que contiene la funcion\n",
        "\n",
        "miFuncion() #aqui ejecutamos la funcion \n",
        "miFuncion() "
      ],
      "metadata": {
        "id": "1DOG9qk-c-vY",
        "colab": {
          "base_uri": "https://localhost:8080/"
        },
        "outputId": "821a35ac-91e2-44fe-c20d-37af2a2261e1"
      },
      "execution_count": null,
      "outputs": [
        {
          "output_type": "stream",
          "name": "stdout",
          "text": [
            "Mi funcion\n",
            "Mi funcion\n"
          ]
        }
      ]
    },
    {
      "cell_type": "code",
      "source": [
        "def printInfo(argumento): #dentro del parentesis va el argumento cuando se esta definiendo\n",
        "  print('Mifuncion',argumento) #aqui dejamos expresado q la def conmt el argumento\n",
        "  \n",
        "printInfo('Tiene parametro')  #en esta linea le entregamos el paramtro del argumento\n"
      ],
      "metadata": {
        "id": "_vNXWlNkdxQM",
        "colab": {
          "base_uri": "https://localhost:8080/"
        },
        "outputId": "5b13ec01-9d80-48b3-8535-22c5f5354eb8"
      },
      "execution_count": null,
      "outputs": [
        {
          "output_type": "stream",
          "name": "stdout",
          "text": [
            "Mifuncion Tiene parametro\n"
          ]
        }
      ]
    },
    {
      "cell_type": "code",
      "source": [
        "def InfoPersonal(nombre,apellido):\n",
        "  print('Nombre completo: ',nombre,apellido)\n",
        "\n",
        "#debemos entregarle a la funcion la misma cant de parametros como argumentos tenga la funcion, si no nos arrojaria error\n",
        "InfoPersonal('Max','Geldes')"
      ],
      "metadata": {
        "id": "_K3Kg2yPe4TO",
        "colab": {
          "base_uri": "https://localhost:8080/"
        },
        "outputId": "afd16532-12ef-459b-8c19-0e7d5cdcd316"
      },
      "execution_count": null,
      "outputs": [
        {
          "output_type": "stream",
          "name": "stdout",
          "text": [
            "Nombre completo:  Max Geldes\n"
          ]
        }
      ]
    },
    {
      "cell_type": "code",
      "source": [
        "def InfoPersonal2(*nombre): #con el * le podemos entregar datos variables, pero nos entregara una lista cm resultado\n",
        "  #print('Nombre completo: ',nombre)\n",
        "  print('Nombre completo: ',nombre[0]+' '+nombre[1]) #aqui indicamos que posicion nos dara de la tupla y si queremos mas de un dato de esta debemos sumar la posicion a sumar de la tupla\n",
        "\n",
        "#debemos entregarle a la funcion la misma cant de parametros como argumentos tenga la funcion, si no nos arrojaria error\n",
        "InfoPersonal2('Max','Geldes','Urrus') #nos esta entregando una tupla\n",
        "\n",
        "def FullName(lastname,name):\n",
        "  print('Nombre:',name,lastname)\n",
        "\n",
        "FullName(name='max',lastname='geldes')  #aqui le entregamos a los argumentos los parametros asignandoselos\n",
        "\n",
        "def FullName2(**names): #este es llamado argumento por llave, nois permite acceder a los argyumentos usando la syntaxis del diccionario\n",
        "  print('Nombre:',names['name'],names['lastname'])\n",
        "FullName2(name='max',lastname='geldes')  #se le dice diccionario por que el llamado quedaria asi 'name':'max', como expresabamos en la consola el diccionario\n"
      ],
      "metadata": {
        "id": "C2HacJPQfq2D"
      },
      "execution_count": null,
      "outputs": []
    },
    {
      "cell_type": "code",
      "source": [
        "def MiFuncion2(argumento='max'):#aqui le asignamos un argumento por ende si no le damos uno nuevo solo volvera a imprimir este\n",
        "  print(argumento)\n",
        "MiFuncion2('geldes')\n",
        "MiFuncion2()\n"
      ],
      "metadata": {
        "id": "y0WBNYIdY56H",
        "colab": {
          "base_uri": "https://localhost:8080/"
        },
        "outputId": "e9bfb8f2-cd72-46b9-f7cc-4f6cbe394cc8"
      },
      "execution_count": null,
      "outputs": [
        {
          "output_type": "stream",
          "name": "stdout",
          "text": [
            "geldes\n",
            "max\n"
          ]
        }
      ]
    },
    {
      "cell_type": "code",
      "source": [
        "#definicion de una lista\n",
        "def FuncionLista(list):#en el argumentos llamamos a la funcion lista\n",
        "  for i in list:\n",
        "    print(i)\n",
        "FuncionLista(['max',27])#dentro de los parentesis y en los corchetes entregaremos los paramtros a de la lista    "
      ],
      "metadata": {
        "id": "WqQVfVUYZwRa",
        "colab": {
          "base_uri": "https://localhost:8080/"
        },
        "outputId": "543ee9cd-16fc-4085-a1a4-ddadd651ad9e"
      },
      "execution_count": null,
      "outputs": [
        {
          "output_type": "stream",
          "name": "stdout",
          "text": [
            "max\n",
            "27\n"
          ]
        }
      ]
    },
    {
      "cell_type": "code",
      "source": [
        "#concatenar una lista\n",
        "def ConcaLista(list):\n",
        "  x = ''\n",
        "  for i in list:\n",
        "    x = x + i +' ' # aqui x es un elemento vacio le sumamos un espacio para luego agregar el elemento y esto por kla iteracion lo ira haciendo continuamente\n",
        "  return x\n",
        "\n",
        "ConcaLista(['max','jeldes'])  #si corremos esta linea solo nos mostrara los string de la lista con sus '' es por ello que debemos def nuestra lista como una variable\n",
        "nombre =  ConcaLista(['max','jeldes'])\n",
        "print(nombre)\n"
      ],
      "metadata": {
        "colab": {
          "base_uri": "https://localhost:8080/"
        },
        "id": "7Vk_OlwRaiS1",
        "outputId": "abfe76cf-015e-4259-8122-3e1051181665"
      },
      "execution_count": null,
      "outputs": [
        {
          "output_type": "stream",
          "name": "stdout",
          "text": [
            "max jeldes \n"
          ]
        }
      ]
    },
    {
      "cell_type": "code",
      "source": [
        "def texto():\n",
        "    return \"Soy un texto\"\n",
        " \n",
        "texto() # No muestra nada\n",
        " \n",
        "# Opción 1\n",
        "print(texto()) # Muestra en consola lo que retorna la función\n",
        " \n",
        "# Opción 2\n",
        "variable_texto = texto()\n",
        "print(variable_texto) # Muestra en consola lo que retorna la función"
      ],
      "metadata": {
        "id": "o1chq_iQdEf4",
        "colab": {
          "base_uri": "https://localhost:8080/"
        },
        "outputId": "c144f1e1-e7f1-4a1a-92f0-1987790ef890"
      },
      "execution_count": null,
      "outputs": [
        {
          "output_type": "stream",
          "name": "stdout",
          "text": [
            "Soy un texto\n",
            "Soy un texto\n"
          ]
        }
      ]
    },
    {
      "cell_type": "markdown",
      "source": [
        "##Recursion\n"
      ],
      "metadata": {
        "id": "VDUpIfmZdOFD"
      }
    },
    {
      "cell_type": "code",
      "source": [
        "def Recursion(i):\n",
        "  if(i)<1:\n",
        "    return i\n",
        "  print(i) #aqui si i es mayor a i se imprime, debe estar fuera del if ya que es el print de la definicion\n",
        "  Recursion(i-1)#aqui indicamos que siempre que se imprima i le restamos 1 \n",
        "Recursion(20)    #nos imprimira desde el 20 hasta el 1 \n",
        " "
      ],
      "metadata": {
        "id": "5RnFPk1ydRrU",
        "colab": {
          "base_uri": "https://localhost:8080/"
        },
        "outputId": "b3047db9-9a9d-43c3-fc83-d73eb86e34bb"
      },
      "execution_count": null,
      "outputs": [
        {
          "output_type": "stream",
          "name": "stdout",
          "text": [
            "20\n",
            "19\n",
            "18\n",
            "17\n",
            "16\n",
            "15\n",
            "14\n",
            "13\n",
            "12\n",
            "11\n",
            "10\n",
            "9\n",
            "8\n",
            "7\n",
            "6\n",
            "5\n",
            "4\n",
            "3\n",
            "2\n",
            "1\n"
          ]
        }
      ]
    },
    {
      "cell_type": "markdown",
      "source": [
        "##Creacion de Clases en python"
      ],
      "metadata": {
        "id": "wZxMpX9NiAeu"
      }
    },
    {
      "cell_type": "code",
      "source": [
        "#primer plano o clase \n",
        "class Usuario: #con esto crearemos una clase usario la letra del nombre de la clase siempre debe inicializar en mayus\n",
        "  nombre = 'max'\n",
        "  apellido = 'geldes'\n",
        "\n",
        "usuario = Usuario()\n",
        "print(usuario) #la consola nos arroja que este es un objeto de la clase usuario\n",
        "print(usuario.nombre)\n",
        "print(usuario.apellido)\n",
        "print(usuario.nombre,usuario.apellido)#cuando unimos con una coma esta genera la suma y espacio del siguiente objeto"
      ],
      "metadata": {
        "id": "KT8NsIiviEKv",
        "colab": {
          "base_uri": "https://localhost:8080/"
        },
        "outputId": "61c5744d-5f7a-40aa-f516-70198cd9e88b"
      },
      "execution_count": null,
      "outputs": [
        {
          "output_type": "stream",
          "name": "stdout",
          "text": [
            "<__main__.Usuario object at 0x7f6bedb15110>\n",
            "max\n",
            "geldes\n",
            "max geldes\n"
          ]
        }
      ]
    },
    {
      "cell_type": "code",
      "source": [
        "class Usuario2:\n",
        "  def __init__(self,nombre, apellido): #siempree debemos iniciar esta linea con 'def+' ' +2_ mas init cerrando con 2__ seguido po (que contendra los objetos de la clase)'\n",
        "    self.nombre = nombre\n",
        "    self.apellido = apellido # con esto generamos UNA INSTANCIA (con self instanciamos)\n",
        "usuarios = Usuario2('max','geldes')\n",
        "usuarios2 = Usuario2('Elen','geldes') \n",
        "\n",
        "print(usuarios.nombre,usuarios.apellido+' and '+usuarios2.nombre,usuarios2.apellido)\n",
        "\n",
        "#Las clases son un especie de plano los usarios seria como se crea el plano y los objetos son instancias ya planos construidos"
      ],
      "metadata": {
        "id": "RqwPO1QLlCYG",
        "colab": {
          "base_uri": "https://localhost:8080/"
        },
        "outputId": "afd2c049-7e3a-4499-ab1d-f1886362fdf2"
      },
      "execution_count": null,
      "outputs": [
        {
          "output_type": "stream",
          "name": "stdout",
          "text": [
            "max geldes and Elen geldes\n"
          ]
        }
      ]
    },
    {
      "cell_type": "markdown",
      "source": [
        "##Metodos"
      ],
      "metadata": {
        "id": "9s0V23Y5nX_G"
      }
    },
    {
      "cell_type": "code",
      "source": [
        "class Usuario3:\n",
        "  def __init__(self,nombre, apellido): #siempree debemos iniciar esta linea con 'def+' ' +2_ mas init cerrando con 2__ seguido po (que contendra los objetos de la clase)'\n",
        "    self.nombre = nombre\n",
        "    self.apellido = apellido # con esto generamos UNA INSTANCIA (con self instanciamos)\n",
        "\n",
        "  def saludo(self): #este como init serian metodos, ojo con la identacion!!!\n",
        "     print('Hola, me llamo ',self.nombre + ' de apellido', self.apellido) \n",
        "\n",
        "usuarios = Usuario3('max','geldes')\n",
        "usuarios2 = Usuario3('Elen','geldes') \n",
        "\n",
        "usuarios.saludo() #de esta manera llamamos al objeto con un metodo\n",
        "usuarios2.saludo()\n",
        "\n",
        "#podemos ajustar e liminar las propiedades de las instancias\n",
        "usuarios.nombre = 'andre'\n",
        "usuarios.saludo()\n",
        "\n",
        "del usuarios.apellido # en esta linea al correrla nos indicara un error debido aque saludos contiene apellido y como lo hemos eliminado ya no puede generar este metodo\n",
        "usuarios.saludo()\n",
        "\n",
        "#tambien se puede elimanr un objeto por completo\n",
        "del usuarios2\n",
        "print(usuarios2)\n"
      ],
      "metadata": {
        "id": "rfyZV3-inZmc"
      },
      "execution_count": null,
      "outputs": []
    },
    {
      "cell_type": "markdown",
      "source": [
        "##Herencia"
      ],
      "metadata": {
        "id": "29uYjpCTq5II"
      }
    },
    {
      "cell_type": "code",
      "source": [
        "class Usuario3:\n",
        "  def __init__(self,nombre, apellido): #siempree debemos iniciar esta linea con 'def+' ' +2_ mas init cerrando con 2__ seguido po (que contendra los objetos de la clase)'\n",
        "    self.nombre = nombre\n",
        "    self.apellido = apellido # con esto generamos UNA INSTANCIA (con self instanciamos)\n",
        "\n",
        "  def saludo(self): #este como init serian metodos, ojo con la identacion!!!\n",
        "     print('Hola, me llamo ',self.nombre + ' de apellido', self.apellido) \n",
        "\n",
        "\n",
        "class Admin(Usuario3): # asqui creamos una clase la cual despues del nombre indicamos con parentesis de que clase padre recibe sus atributos\n",
        "    def superSaludo(self):\n",
        "        print('hola, soy  ',self.nombre, ' y soy administrador')\n",
        "admin = Admin('Max','Geldes')\n",
        "\n",
        "admin.superSaludo()\n",
        "admin.saludo()\n",
        "\n",
        "#usarios.superSaludo()  #no podemos llamar desde la clase padre algun metodo de la clase hija\n",
        "#cats\n",
        "class cat:\n",
        "  def __init__(self, nameCat, tipe):\n",
        "      self.nameCat = nameCat #the name of the cat from class\n",
        "      self.tipe = tipe #the type of the cat from class\n",
        "\n",
        "  def cheer(self): #here I specify the atributes for cheers and this take the self from __init__\n",
        "    print('Hi I m a cat and my name is ', self.nameCat + ' and I m the type of ', self.tipe)  \n",
        "\n",
        "mycat = cat('Deku', 'Delmont') \n",
        "mycat.cheer()  \n",
        "\n",
        "\n",
        "\n",
        "#Dogs\n",
        "class dog:\n",
        "  def __init__(self, nameDog, tipe):\n",
        "      self.nameDog = nameDog #the name of the cat from class\n",
        "      self.tipe = tipe #the type of the cat from class\n",
        "\n",
        "  def cheer(self): #here I specify the atributes for cheers and this take the self from __init__\n",
        "    print('Hi I m a dog and my name is ', self.nameDog + ' and I m the type of ', self.tipe)  \n",
        "\n",
        "myDog = dog('Luna', 'Golden Retrivier') \n",
        "myDog.cheer()  \n",
        "\n",
        "print(\" \")\n",
        "#generic herency\n",
        "class Animal:\n",
        "    def __init__(self, name, tipe):\n",
        "      self.name = name #the name of the cat from class\n",
        "      self.tipe = tipe #the type of the cat from class\n",
        "    def cheers(self):\n",
        "      print(\"Hi I m a \",self.tipe + \" and my name is \", self.name + \" and mi sound is called \", self.sound)  \n",
        "class Dog(Animal):\n",
        "  sound = \"bark\"\n",
        "  def __init__(self, name, tipe):\n",
        "    super().__init__(name,tipe)\n",
        "    print(\"Dog instances\")\n",
        "\n",
        "class Cat(Animal):\n",
        "  sound = \"meow\"\n",
        "\n",
        "mycat = Cat('Deku', 'Delmont') \n",
        "mycat.cheers()  \n",
        "print(\"\")\n",
        "myDog = Dog('Luna', 'Golden Retrivier') \n",
        "myDog.cheers()  "
      ],
      "metadata": {
        "id": "dpefhdv3q7pl",
        "colab": {
          "base_uri": "https://localhost:8080/"
        },
        "outputId": "6ba6e2ee-40d5-4155-bc58-e01e491e830d"
      },
      "execution_count": null,
      "outputs": [
        {
          "output_type": "stream",
          "name": "stdout",
          "text": [
            "hola, soy   Max  y soy administrador\n",
            "Hola, me llamo  Max de apellido Geldes\n",
            "Hi I m a cat and my name is  Deku and I m the type of  Delmont\n",
            "Hi I m a dog and my name is  Luna and I m the type of  Golden Retrivier\n",
            " \n",
            "Hi I m a  Delmont and my name is  Deku and mi sound is called  meow\n",
            "\n",
            "Dog instances\n",
            "Hi I m a  Golden Retrivier and my name is  Luna and mi sound is called  bark\n"
          ]
        }
      ]
    },
    {
      "cell_type": "code",
      "source": [
        ""
      ],
      "metadata": {
        "id": "shoZbar0wykr"
      },
      "execution_count": null,
      "outputs": []
    },
    {
      "cell_type": "markdown",
      "source": [
        "Create Modulos ...."
      ],
      "metadata": {
        "id": "dcjLqI6JBmzY"
      }
    },
    {
      "cell_type": "code",
      "source": [
        "#first of all we have to create a file call module.py and then call\n",
        "# in this file we put a definition of logics and variables what we use in other files ..\n",
        "#Mascota = ['luna','Deku','pushi','arya'] #variable que contiene una lista\n",
        "\n",
        "#def Saludo(name): #definimos una funcion que puede ser llamada\n",
        "#   print('Hola ',name)\n",
        "\n",
        "##Second file, we call the definitions, def or variable...\n",
        "#import modulos #aqui importamos a modulos a este archivo :\n",
        "#print(modulos.Mascota)\n",
        "#modulos.Saludo('Max')\n",
        "\n",
        "#import modulos as xs #para renombrar un modulo lo importamos como as 'nombre_modulo':\n",
        "#print(xs.Mascota)\n",
        "#xs.Saludo('Max')\n",
        "\n",
        "#con from podemos importar mas especificamente lo uqe queremos como una variable y no toso el skript:\n",
        "#from modulos import Saludo\n",
        "#Saludo('Max')\n",
        "\n",
        "#podemos importar a la vez mas de una linea del skript:\n",
        "#from modulos import Saludo,Mascota\n",
        "#print(Mascota[1])\n",
        "#Saludo('Max')"
      ],
      "metadata": {
        "id": "lrVdM1eGBq3f"
      },
      "execution_count": null,
      "outputs": []
    }
  ]
}